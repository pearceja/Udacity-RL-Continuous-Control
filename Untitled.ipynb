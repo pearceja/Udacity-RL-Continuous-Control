{
 "cells": [
  {
   "cell_type": "code",
   "execution_count": 1,
   "metadata": {},
   "outputs": [],
   "source": [
    "from unityagents import UnityEnvironment\n",
    "import numpy as np\n",
    "import random\n",
    "import torch\n",
    "import numpy as np\n",
    "from collections import deque\n",
    "import matplotlib.pyplot as plt\n",
    "%matplotlib inline\n",
    "\n",
    "from ddpg_agent import *"
   ]
  },
  {
   "cell_type": "code",
   "execution_count": 2,
   "metadata": {},
   "outputs": [
    {
     "name": "stderr",
     "output_type": "stream",
     "text": [
      "INFO:unityagents:\n",
      "'Academy' started successfully!\n",
      "Unity Academy name: Academy\n",
      "        Number of Brains: 1\n",
      "        Number of External Brains : 1\n",
      "        Lesson number : 0\n",
      "        Reset Parameters :\n",
      "\t\tgoal_speed -> 1.0\n",
      "\t\tgoal_size -> 5.0\n",
      "Unity brain name: ReacherBrain\n",
      "        Number of Visual Observations (per agent): 0\n",
      "        Vector Observation space type: continuous\n",
      "        Vector Observation space size (per agent): 33\n",
      "        Number of stacked Vector Observation: 1\n",
      "        Vector Action space type: continuous\n",
      "        Vector Action space size (per agent): 4\n",
      "        Vector Action descriptions: , , , \n"
     ]
    }
   ],
   "source": [
    "\n",
    "single = '/Users/pearcejarrett/Documents/Training/Udacity/deep-reinforcement-learning/p2_continuous-control/Reacher_single.app'\n",
    "multi = '/Users/pearcejarrett/Documents/Training/Udacity/deep-reinforcement-learning/p2_continuous-control/Reacher.app'\n",
    "env = UnityEnvironment(file_name=multi)"
   ]
  },
  {
   "cell_type": "code",
   "execution_count": 3,
   "metadata": {},
   "outputs": [
    {
     "name": "stdout",
     "output_type": "stream",
     "text": [
      "Number of agents: 20\n",
      "Size of each action: 4\n",
      "There are 20 agents. Each observes a state with length: 33\n",
      "The state for the first agent looks like: [ 0.00000000e+00 -4.00000000e+00  0.00000000e+00  1.00000000e+00\n",
      " -0.00000000e+00 -0.00000000e+00 -4.37113883e-08  0.00000000e+00\n",
      "  0.00000000e+00  0.00000000e+00  0.00000000e+00  0.00000000e+00\n",
      "  0.00000000e+00  0.00000000e+00 -1.00000000e+01  0.00000000e+00\n",
      "  1.00000000e+00 -0.00000000e+00 -0.00000000e+00 -4.37113883e-08\n",
      "  0.00000000e+00  0.00000000e+00  0.00000000e+00  0.00000000e+00\n",
      "  0.00000000e+00  0.00000000e+00  5.75471878e+00 -1.00000000e+00\n",
      "  5.55726624e+00  0.00000000e+00  1.00000000e+00  0.00000000e+00\n",
      " -1.68164849e-01]\n"
     ]
    }
   ],
   "source": [
    "# get the default brain\n",
    "brain_name = env.brain_names[0]\n",
    "brain = env.brains[brain_name]\n",
    "\n",
    "# reset the environment\n",
    "env_info = env.reset(train_mode=True)[brain_name]\n",
    "\n",
    "# number of agents\n",
    "num_agents = len(env_info.agents)\n",
    "print('Number of agents:', num_agents)\n",
    "\n",
    "# size of each action\n",
    "action_size = brain.vector_action_space_size\n",
    "print('Size of each action:', action_size)\n",
    "\n",
    "# examine the state space \n",
    "states = env_info.vector_observations\n",
    "state_size = states.shape[1]\n",
    "print('There are {} agents. Each observes a state with length: {}'.format(states.shape[0], state_size))\n",
    "print('The state for the first agent looks like:', states[0])"
   ]
  },
  {
   "cell_type": "code",
   "execution_count": 7,
   "metadata": {},
   "outputs": [
    {
     "name": "stdout",
     "output_type": "stream",
     "text": [
      "Episode 5\tReward: 1.03\tAverage Reward: 0.83\n",
      "Episode 10\tReward: 2.06\tAverage Reward: 1.32\n",
      "Episode 15\tReward: 4.05\tAverage Reward: 1.86\n",
      "Episode 20\tReward: 9.39\tAverage Reward: 3.11\n",
      "Episode 25\tReward: 30.60\tAverage Reward: 7.18\n",
      "Episode 30\tReward: 36.36\tAverage Reward: 11.86\n",
      "Episode 35\tReward: 37.17\tAverage Reward: 15.45\n",
      "Episode 40\tReward: 37.52\tAverage Reward: 18.23\n",
      "Episode 45\tReward: 37.52\tAverage Reward: 20.34\n",
      "Episode 50\tReward: 37.40\tAverage Reward: 22.08\n",
      "Episode 55\tReward: 37.21\tAverage Reward: 23.45\n",
      "Episode 60\tReward: 37.68\tAverage Reward: 24.57\n",
      "Episode 65\tReward: 36.28\tAverage Reward: 25.49\n",
      "Episode 70\tReward: 37.00\tAverage Reward: 26.27\n",
      "Episode 75\tReward: 36.93\tAverage Reward: 26.98\n",
      "Episode 80\tReward: 36.74\tAverage Reward: 27.58\n",
      "Episode 85\tReward: 37.59\tAverage Reward: 28.13\n",
      "Episode 90\tReward: 37.20\tAverage Reward: 28.64\n",
      "Episode 95\tReward: 36.20\tAverage Reward: 29.03\n",
      "Episode 100\tReward: 35.65\tAverage Reward: 29.43\n",
      "Episode 105\tReward: 36.78\tAverage Reward: 31.22\n",
      "Episode 110\tReward: 36.02\tAverage Reward: 33.00\n",
      "Episode 115\tReward: 35.83\tAverage Reward: 34.70\n",
      "Episode 120\tReward: 36.41\tAverage Reward: 36.17\n",
      "Episode 124\tReward: 36.33\tAverage Reward: 36.78\n",
      "\n",
      "Environment Solved in 24 episodes!\tAverage Reward: 36.78\n"
     ]
    }
   ],
   "source": [
    "def ddpg(n_episodes=1000, print_every=100):\n",
    "    scores_deque = deque(maxlen=print_every)\n",
    "    scores = []\n",
    "    agent_scores = []\n",
    "    for i_episode in (range(1, n_episodes+1)):\n",
    "        env_info = env.reset(train_mode=True)[brain_name]\n",
    "        state = env_info.vector_observations\n",
    "        agent.reset()\n",
    "        score = 0.\n",
    "        individual_scores = np.zeros(num_agents)\n",
    "        while True:\n",
    "            action = agent.act(state)\n",
    "            env_info = env.step(action)[brain_name]\n",
    "            next_state = env_info.vector_observations\n",
    "            reward = env_info.rewards\n",
    "            done = env_info.local_done\n",
    "            agent.step(state, action, reward, next_state, done)\n",
    "            state = next_state\n",
    "            score += np.mean(reward)\n",
    "            individual_scores += reward\n",
    "            if np.any(done):\n",
    "                break \n",
    "        scores_deque.append(score)\n",
    "        scores.append(score)\n",
    "        agent_scores.append(individual_scores)\n",
    "        print('\\rEpisode {}\\tReward: {:.2f}\\tAverage Reward: {:.2f}'.format(i_episode, score, np.mean(scores_deque)), end=\"\")\n",
    "        \n",
    "        if i_episode % 5 == 0:\n",
    "            print('\\rEpisode {}\\tReward: {:.2f}\\tAverage Reward: {:.2f}'.format(i_episode, score, np.mean(scores_deque)))\n",
    "        \n",
    "        if sum(np.array(scores_deque)>=30)>=100:\n",
    "            print('\\n\\nEnvironment Solved in {:d} episodes!\\tAverage Reward: {:.2f}'.format(i_episode-100,\n",
    "                                                                                          np.mean(scores_deque)))\n",
    "            torch.save(agent.actor_local.state_dict(), 'checkpoint_actor2.pth')\n",
    "            torch.save(agent.critic_local.state_dict(), 'checkpoint_critic2.pth')\n",
    "            break\n",
    "            \n",
    "    return scores, agent_scores\n",
    "\n",
    "random_seed = 0                         \n",
    "agent = Agent(state_size, action_size, random_seed, num_agents)\n",
    "scores, agent_scores = ddpg()"
   ]
  },
  {
   "cell_type": "code",
   "execution_count": 6,
   "metadata": {},
   "outputs": [],
   "source": [
    "env.close()"
   ]
  },
  {
   "cell_type": "code",
   "execution_count": null,
   "metadata": {},
   "outputs": [],
   "source": [
    "Testing "
   ]
  },
  {
   "cell_type": "code",
   "execution_count": 2,
   "metadata": {},
   "outputs": [
    {
     "name": "stderr",
     "output_type": "stream",
     "text": [
      "INFO:unityagents:\n",
      "'Academy' started successfully!\n",
      "Unity Academy name: Academy\n",
      "        Number of Brains: 1\n",
      "        Number of External Brains : 1\n",
      "        Lesson number : 0\n",
      "        Reset Parameters :\n",
      "\t\tgoal_speed -> 1.0\n",
      "\t\tgoal_size -> 5.0\n",
      "Unity brain name: ReacherBrain\n",
      "        Number of Visual Observations (per agent): 0\n",
      "        Vector Observation space type: continuous\n",
      "        Vector Observation space size (per agent): 33\n",
      "        Number of stacked Vector Observation: 1\n",
      "        Vector Action space type: continuous\n",
      "        Vector Action space size (per agent): 4\n",
      "        Vector Action descriptions: , , , \n"
     ]
    }
   ],
   "source": [
    "multi = '/Users/pearcejarrett/Documents/Training/Udacity/deep-reinforcement-learning/p2_continuous-control/Reacher.app'\n",
    "env = UnityEnvironment(file_name=multi)"
   ]
  },
  {
   "cell_type": "code",
   "execution_count": 4,
   "metadata": {},
   "outputs": [],
   "source": [
    "random_seed = 0    \n",
    "agent = Agent(state_size, action_size, random_seed, num_agents, 'checkpoint_actor2.pth', 'checkpoint_critic2.pth')\n"
   ]
  },
  {
   "cell_type": "code",
   "execution_count": 5,
   "metadata": {},
   "outputs": [
    {
     "name": "stdout",
     "output_type": "stream",
     "text": [
      "Total score (averaged over agents) this episode: 37.017999172583224\n"
     ]
    }
   ],
   "source": [
    "env_info = env.reset(train_mode=False)[brain_name]      # reset the environment    \n",
    "states = env_info.vector_observations                  # get the current state (for each agent)\n",
    "scores = np.zeros(num_agents)                          # initialize the score (for each agent)\n",
    "while True:\n",
    "    actions = agent.act(states, add_noise=False) # select an action (for each agent)\n",
    "    env_info = env.step(actions)[brain_name]           # send all actions to tne environment\n",
    "    next_states = env_info.vector_observations         # get next state (for each agent)\n",
    "    rewards = env_info.rewards                         # get reward (for each agent)\n",
    "    dones = env_info.local_done                        # see if episode finished\n",
    "    scores += env_info.rewards                         # update the score (for each agent)\n",
    "    states = next_states                               # roll over states to next time step\n",
    "    if np.any(dones):                                  # exit loop if episode finished\n",
    "        break\n",
    "print('Total score (averaged over agents) this episode: {}'.format(np.mean(scores)))"
   ]
  }
 ],
 "metadata": {
  "kernelspec": {
   "display_name": "drlnd",
   "language": "python",
   "name": "drlnd"
  },
  "language_info": {
   "codemirror_mode": {
    "name": "ipython",
    "version": 3
   },
   "file_extension": ".py",
   "mimetype": "text/x-python",
   "name": "python",
   "nbconvert_exporter": "python",
   "pygments_lexer": "ipython3",
   "version": "3.6.9"
  }
 },
 "nbformat": 4,
 "nbformat_minor": 4
}
