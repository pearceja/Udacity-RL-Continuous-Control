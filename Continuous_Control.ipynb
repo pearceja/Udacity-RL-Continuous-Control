{
 "cells": [
  {
   "cell_type": "markdown",
   "metadata": {},
   "source": [
    "# Continuous Control"
   ]
  },
  {
   "cell_type": "code",
   "execution_count": 1,
   "metadata": {},
   "outputs": [],
   "source": [
    "from unityagents import UnityEnvironment\n",
    "import numpy as np\n",
    "import random\n",
    "import torch\n",
    "import numpy as np\n",
    "from collections import deque\n",
    "import matplotlib.pyplot as plt\n",
    "%matplotlib inline\n",
    "\n",
    "from ddpg_agent import *"
   ]
  },
  {
   "cell_type": "code",
   "execution_count": 2,
   "metadata": {},
   "outputs": [
    {
     "name": "stderr",
     "output_type": "stream",
     "text": [
      "INFO:unityagents:\n",
      "'Academy' started successfully!\n",
      "Unity Academy name: Academy\n",
      "        Number of Brains: 1\n",
      "        Number of External Brains : 1\n",
      "        Lesson number : 0\n",
      "        Reset Parameters :\n",
      "\t\tgoal_size -> 5.0\n",
      "\t\tgoal_speed -> 1.0\n",
      "Unity brain name: ReacherBrain\n",
      "        Number of Visual Observations (per agent): 0\n",
      "        Vector Observation space type: continuous\n",
      "        Vector Observation space size (per agent): 33\n",
      "        Number of stacked Vector Observation: 1\n",
      "        Vector Action space type: continuous\n",
      "        Vector Action space size (per agent): 4\n",
      "        Vector Action descriptions: , , , \n"
     ]
    }
   ],
   "source": [
    "# For this implimentation we will be using the multiple reacher enviroment  \n",
    "multi = './Reacher.app'\n",
    "env = UnityEnvironment(file_name=multi)"
   ]
  },
  {
   "cell_type": "code",
   "execution_count": 3,
   "metadata": {},
   "outputs": [
    {
     "name": "stdout",
     "output_type": "stream",
     "text": [
      "Number of agents: 20\n",
      "Size of each action: 4\n",
      "There are 20 agents. Each observes a state with length: 33\n",
      "The state for the first agent looks like: [ 0.00000000e+00 -4.00000000e+00  0.00000000e+00  1.00000000e+00\n",
      " -0.00000000e+00 -0.00000000e+00 -4.37113883e-08  0.00000000e+00\n",
      "  0.00000000e+00  0.00000000e+00  0.00000000e+00  0.00000000e+00\n",
      "  0.00000000e+00  0.00000000e+00 -1.00000000e+01  0.00000000e+00\n",
      "  1.00000000e+00 -0.00000000e+00 -0.00000000e+00 -4.37113883e-08\n",
      "  0.00000000e+00  0.00000000e+00  0.00000000e+00  0.00000000e+00\n",
      "  0.00000000e+00  0.00000000e+00  5.75471878e+00 -1.00000000e+00\n",
      "  5.55726624e+00  0.00000000e+00  1.00000000e+00  0.00000000e+00\n",
      " -1.68164849e-01]\n"
     ]
    }
   ],
   "source": [
    "# get the default brain\n",
    "brain_name = env.brain_names[0]\n",
    "brain = env.brains[brain_name]\n",
    "\n",
    "# reset the environment\n",
    "env_info = env.reset(train_mode=True)[brain_name]\n",
    "\n",
    "# number of agents\n",
    "num_agents = len(env_info.agents)\n",
    "print('Number of agents:', num_agents)\n",
    "\n",
    "# size of each action\n",
    "action_size = brain.vector_action_space_size\n",
    "print('Size of each action:', action_size)\n",
    "\n",
    "# examine the state space \n",
    "states = env_info.vector_observations\n",
    "state_size = states.shape[1]\n",
    "print('There are {} agents. Each observes a state with length: {}'.format(states.shape[0], state_size))\n",
    "print('The state for the first agent looks like:', states[0])"
   ]
  },
  {
   "cell_type": "code",
   "execution_count": 6,
   "metadata": {},
   "outputs": [
    {
     "name": "stdout",
     "output_type": "stream",
     "text": [
      "Episode 5\tReward: 1.06\tAverage Reward: 1.21\n",
      "Episode 10\tReward: 1.55\tAverage Reward: 1.34\n",
      "Episode 15\tReward: 2.89\tAverage Reward: 1.65\n",
      "Episode 20\tReward: 6.05\tAverage Reward: 2.42\n",
      "Episode 25\tReward: 8.75\tAverage Reward: 3.43\n",
      "Episode 30\tReward: 12.49\tAverage Reward: 4.78\n",
      "Episode 35\tReward: 20.65\tAverage Reward: 6.54\n",
      "Episode 40\tReward: 26.76\tAverage Reward: 8.70\n",
      "Episode 45\tReward: 29.71\tAverage Reward: 10.96\n",
      "Episode 50\tReward: 33.93\tAverage Reward: 13.12\n",
      "Episode 55\tReward: 33.53\tAverage Reward: 14.98\n",
      "Episode 60\tReward: 35.11\tAverage Reward: 16.59\n",
      "Episode 65\tReward: 35.84\tAverage Reward: 18.04\n",
      "Episode 70\tReward: 36.49\tAverage Reward: 19.36\n",
      "Episode 75\tReward: 36.69\tAverage Reward: 20.53\n",
      "Episode 80\tReward: 36.71\tAverage Reward: 21.51\n",
      "Episode 85\tReward: 33.49\tAverage Reward: 22.30\n",
      "Episode 90\tReward: 35.03\tAverage Reward: 23.01\n",
      "Episode 95\tReward: 36.07\tAverage Reward: 23.71\n",
      "Episode 100\tReward: 36.26\tAverage Reward: 24.32\n",
      "Episode 105\tReward: 35.80\tAverage Reward: 26.11\n",
      "Episode 110\tReward: 36.39\tAverage Reward: 27.83\n",
      "Episode 115\tReward: 36.66\tAverage Reward: 29.51\n",
      "Episode 120\tReward: 35.81\tAverage Reward: 31.07\n",
      "Episode 125\tReward: 34.38\tAverage Reward: 32.45\n",
      "Episode 130\tReward: 36.82\tAverage Reward: 33.71\n",
      "Episode 135\tReward: 36.64\tAverage Reward: 34.69\n",
      "Episode 140\tReward: 35.16\tAverage Reward: 35.29\n",
      "Episode 145\tReward: 37.16\tAverage Reward: 35.66\n",
      "\n",
      "\n",
      "Environment Solved in 45 episodes!\tAverage Reward: 35.66\n"
     ]
    }
   ],
   "source": [
    "def ddpg(n_episodes=1000, print_every=100):\n",
    "    scores_deque = deque(maxlen=print_every)\n",
    "    scores = []\n",
    "    agent_scores = []\n",
    "    for i_episode in (range(1, n_episodes+1)):\n",
    "        env_info = env.reset(train_mode=True)[brain_name]\n",
    "        state = env_info.vector_observations\n",
    "        agent.reset()\n",
    "        score = 0.\n",
    "        individual_scores = np.zeros(num_agents)\n",
    "        batch_size = 1\n",
    "        lstm_h_actor = torch.zeros(batch_size, action_size)\n",
    "        lstm_c_actor = torch.zeros(batch_size, action_size)\n",
    "        lstm_h_critic = torch.zeros(20,16)\n",
    "        lstm_c_critic = torch.zeros(20,16)\n",
    "        hidden = {\n",
    "            'actor' : (lstm_h_actor, lstm_c_actor),\n",
    "            'critic' : (lstm_h_critic, lstm_c_critic)\n",
    "        }\n",
    "        while True:\n",
    "            action = agent.act(state, hidden)\n",
    "            env_info = env.step(action)[brain_name]\n",
    "            next_state = env_info.vector_observations\n",
    "            reward = env_info.rewards\n",
    "            done = env_info.local_done\n",
    "            agent.step(state, action, reward, next_state, done)\n",
    "            state = next_state\n",
    "            score += np.mean(reward)\n",
    "            individual_scores += reward\n",
    "            if np.any(done):\n",
    "                break \n",
    "        scores_deque.append(score)\n",
    "        scores.append(score)\n",
    "        agent_scores.append(individual_scores)\n",
    "        print('\\rEpisode {}\\tReward: {:.2f}\\tAverage Reward: {:.2f}'.format(i_episode, score, np.mean(scores_deque)), end=\"\")\n",
    "        \n",
    "        if i_episode % 5 == 0:\n",
    "            print('\\rEpisode {}\\tReward: {:.2f}\\tAverage Reward: {:.2f}'.format(i_episode, score, np.mean(scores_deque)))\n",
    "        \n",
    "        if sum(np.array(scores_deque)>=30)>=100:\n",
    "            print('\\n\\nEnvironment Solved in {:d} episodes!\\tAverage Reward: {:.2f}'.format(i_episode-100,\n",
    "                                                                                          np.mean(scores_deque)))\n",
    "            torch.save(agent.actor_local.state_dict(), 'checkpoint_actor2.pth')\n",
    "            torch.save(agent.critic_local.state_dict(), 'checkpoint_critic2.pth')\n",
    "            break\n",
    "            \n",
    "    return scores, agent_scores\n",
    "\n",
    "random_seed = 0                         \n",
    "agent = Agent(state_size, action_size, random_seed, num_agents)\n",
    "scores, agent_scores = ddpg()"
   ]
  },
  {
   "cell_type": "code",
   "execution_count": 15,
   "metadata": {},
   "outputs": [
    {
     "data": {
      "text/plain": [
       "[<matplotlib.lines.Line2D at 0x10c652cc0>]"
      ]
     },
     "execution_count": 15,
     "metadata": {},
     "output_type": "execute_result"
    },
    {
     "data": {
      "image/png": "[encoded data removed]",
      "text/plain": [
       "<Figure size 432x288 with 1 Axes>"
      ]
     },
     "metadata": {
      "needs_background": "light"
     },
     "output_type": "display_data"
    }
   ],
   "source": [
    "# Plot results\n",
    "plt.xlabel('Episode #')\n",
    "plt.ylabel('Score')\n",
    "plt.title('Average Score Through Training')\n",
    "plt.plot(scores)\n"
   ]
  }
 ],
 "metadata": {
  "kernelspec": {
   "display_name": "drlnd",
   "language": "python",
   "name": "drlnd"
  },
  "language_info": {
   "codemirror_mode": {
    "name": "ipython",
    "version": 3
   },
   "file_extension": ".py",
   "mimetype": "text/x-python",
   "name": "python",
   "nbconvert_exporter": "python",
   "pygments_lexer": "ipython3",
   "version": "3.6.9"
  }
 },
 "nbformat": 4,
 "nbformat_minor": 4
}
